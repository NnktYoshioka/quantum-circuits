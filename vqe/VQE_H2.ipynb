{
 "cells": [
  {
   "cell_type": "markdown",
   "metadata": {},
   "source": [
    "# Qulacs & openfermion & psi4 で VQE\n",
    "\n",
    "必要なもの\n",
    "\n",
    "- qulacs\n",
    "- openfermion\n",
    "- openfermion-psi4\n",
    "- psi4\n",
    "- scipy\n",
    "- numpy"
   ]
  },
  {
   "cell_type": "code",
   "execution_count": 1,
   "metadata": {},
   "outputs": [],
   "source": [
    "import sys, os\n",
    "import qulacs\n",
    "\n",
    "from openfermion.transforms import get_fermion_operator, jordan_wigner\n",
    "from openfermion.transforms import get_sparse_operator\n",
    "from openfermion.hamiltonians import MolecularData\n",
    "from openfermionpsi4 import run_psi4\n",
    "\n",
    "from scipy.optimize import minimize\n",
    "import numpy as np\n",
    "import matplotlib.pyplot as plt"
   ]
  },
  {
   "cell_type": "markdown",
   "metadata": {},
   "source": [
    "## ハミルトニアンを作る"
   ]
  },
  {
   "cell_type": "code",
   "execution_count": 2,
   "metadata": {},
   "outputs": [],
   "source": [
    "basis = \"sto-3g\"\n",
    "multiplicity = 1\n",
    "charge = 0\n",
    "trotter_step = 1\n",
    "distance  = 0.977\n",
    "geometry = [[\"H\", [0,0,0]],[\"H\", [0,0,distance]]]\n",
    "description  = \"tmp\"\n",
    "molecule = MolecularData(geometry, basis, multiplicity, charge, description)\n",
    "molecule = run_psi4(molecule,run_scf=1,run_fci=1)\n",
    "\n",
    "n_qubit = molecule.n_qubits\n",
    "n_electron = molecule.n_electrons"
   ]
  },
  {
   "cell_type": "markdown",
   "metadata": {},
   "source": [
    "### ハミルトニアンを変換・表示する"
   ]
  },
  {
   "cell_type": "code",
   "execution_count": 3,
   "metadata": {},
   "outputs": [],
   "source": [
    "fermionic_hamiltonian = get_fermion_operator(molecule.get_molecular_hamiltonian())\n",
    "jw_hamiltonian = jordan_wigner(fermionic_hamiltonian)"
   ]
  },
  {
   "cell_type": "code",
   "execution_count": 4,
   "metadata": {},
   "outputs": [
    {
     "name": "stdout",
     "output_type": "stream",
     "text": [
      "(-0.31349601806504035+0j) [] +\n",
      "(-0.04883472643300806+0j) [X0 X1 Y2 Y3] +\n",
      "(0.04883472643300806+0j) [X0 Y1 Y2 X3] +\n",
      "(0.04883472643300806+0j) [Y0 X1 X2 Y3] +\n",
      "(-0.04883472643300806+0j) [Y0 Y1 X2 X3] +\n",
      "(0.13978238244930488+0j) [Z0] +\n",
      "(0.1576263053229024+0j) [Z0 Z1] +\n",
      "(0.1074538256834896+0j) [Z0 Z2] +\n",
      "(0.15628855211649767+0j) [Z0 Z3] +\n",
      "(0.13978238244930494+0j) [Z1] +\n",
      "(0.15628855211649767+0j) [Z1 Z2] +\n",
      "(0.1074538256834896+0j) [Z1 Z3] +\n",
      "(-0.13686894969530392+0j) [Z2] +\n",
      "(0.16419290083579907+0j) [Z2 Z3] +\n",
      "(-0.1368689496953039+0j) [Z3]\n"
     ]
    }
   ],
   "source": [
    "print(jw_hamiltonian)"
   ]
  },
  {
   "cell_type": "markdown",
   "metadata": {},
   "source": [
    "### ハミルトニアンを qulacs ハミルトニアンに変換する"
   ]
  },
  {
   "cell_type": "code",
   "execution_count": 24,
   "metadata": {},
   "outputs": [],
   "source": [
    "from qulacs import Observable\n",
    "from qulacs.observable import create_observable_from_openfermion_text"
   ]
  },
  {
   "cell_type": "code",
   "execution_count": 26,
   "metadata": {},
   "outputs": [],
   "source": [
    "qulacs_hamiltonian = create_observable_from_openfermion_text(str(jw_hamiltonian))"
   ]
  },
  {
   "cell_type": "code",
   "execution_count": 6,
   "metadata": {},
   "outputs": [],
   "source": [
    "file_name = 'VQE_H2_jw_hamiltonian.txt'\n",
    "with open(file_name, mode='w') as f:\n",
    "    f.write(str(jw_hamiltonian))"
   ]
  },
  {
   "cell_type": "code",
   "execution_count": 7,
   "metadata": {},
   "outputs": [
    {
     "ename": "TypeError",
     "evalue": "__init__(): incompatible constructor arguments. The following argument types are supported:\n    1. qulacs.Observable(arg0: int)\n\nInvoked with: 'VQE_H2_jw_hamiltonian.txt'",
     "output_type": "error",
     "traceback": [
      "\u001b[0;31m---------------------------------------------------------------------------\u001b[0m",
      "\u001b[0;31mTypeError\u001b[0m                                 Traceback (most recent call last)",
      "\u001b[0;32m<ipython-input-7-c6b2f4286270>\u001b[0m in \u001b[0;36m<module>\u001b[0;34m()\u001b[0m\n\u001b[0;32m----> 1\u001b[0;31m \u001b[0mqulacs_hamiltonian\u001b[0m \u001b[0;34m=\u001b[0m \u001b[0mObservable\u001b[0m\u001b[0;34m(\u001b[0m\u001b[0mfile_name\u001b[0m\u001b[0;34m)\u001b[0m\u001b[0;34m\u001b[0m\u001b[0m\n\u001b[0m",
      "\u001b[0;31mTypeError\u001b[0m: __init__(): incompatible constructor arguments. The following argument types are supported:\n    1. qulacs.Observable(arg0: int)\n\nInvoked with: 'VQE_H2_jw_hamiltonian.txt'"
     ]
    }
   ],
   "source": [
    "qulacs_hamiltonian = Observable(file_name)"
   ]
  },
  {
   "cell_type": "code",
   "execution_count": null,
   "metadata": {},
   "outputs": [],
   "source": [
    "# def convert_openfermion_op(n_qubit, openfermion_op):\n",
    "#     \"\"\"convert_openfermion_op\n",
    "\n",
    "#     Args:\n",
    "#         n_qubit (:class:`int`)\n",
    "#         openfermion_op (:class:`openfermion.ops.QubitOperator`)\n",
    "#     Returns:\n",
    "#         :class:`qulacs.Observable`\n",
    "#     \"\"\"\n",
    "#     ret = Observable(n_qubit)\n",
    "    \n",
    "#     for pauli_product in openfermion_op.terms:\n",
    "#         coef = float(np.real(openfermion_op.terms[pauli_product]))\n",
    "#         pauli_string = ''\n",
    "#         for pauli_operator in pauli_product:\n",
    "#             pauli_string += pauli_operator[1] + ' ' + str(pauli_operator[0])\n",
    "#             pauli_string += ' '\n",
    "#         ret.add_operator(coef, pauli_string[:-1])\n",
    "    \n",
    "#     return ret"
   ]
  },
  {
   "cell_type": "code",
   "execution_count": null,
   "metadata": {},
   "outputs": [],
   "source": [
    "# qulacs_hamiltonian = convert_openfermion_op(n_qubit, jw_hamiltonian)"
   ]
  },
  {
   "cell_type": "markdown",
   "metadata": {},
   "source": [
    "## ansatz を構成する"
   ]
  },
  {
   "cell_type": "code",
   "execution_count": 27,
   "metadata": {},
   "outputs": [],
   "source": [
    "from qulacs import QuantumState, QuantumCircuit\n",
    "from qulacs.gate import CZ, RY, RZ, merge\n",
    "\n",
    "depth = n_qubit"
   ]
  },
  {
   "cell_type": "code",
   "execution_count": 28,
   "metadata": {},
   "outputs": [],
   "source": [
    "def he_ansatz_circuit(n_qubit, depth, theta_list):\n",
    "    \"\"\"he_ansatz_circuit\n",
    "    Retunrs hardware efficient ansatz circuit.\n",
    "\n",
    "    Args:\n",
    "        n_qubit (:class:`int`):\n",
    "            the number of qubit used (equivalent to the number of fermionic modes)\n",
    "        depth (:class:`int`):\n",
    "            depth of the circuit.\n",
    "        theta_list (:class:`numpy.ndarray`):\n",
    "            rotation angles.\n",
    "    Returns:\n",
    "        :class:`qulacs.QuantumCircuit`\n",
    "    \"\"\"\n",
    "    circuit = QuantumCircuit(n_qubit)\n",
    "    \n",
    "    for d in range(depth):\n",
    "        for i in range(n_qubit):\n",
    "            circuit.add_gate(merge(RY(i, theta_list[2*i+2*n_qubit*d]), RZ(i, theta_list[2*i+1+2*n_qubit*d])))\n",
    "        for i in range(n_qubit//2):\n",
    "            circuit.add_gate(CZ(2*i, 2*i+1))\n",
    "        for i in range(n_qubit//2-1):\n",
    "            circuit.add_gate(CZ(2*i+1, 2*i+2))\n",
    "    for i in range(n_qubit):\n",
    "        circuit.add_gate(merge(RY(i, theta_list[2*i+2*n_qubit*depth]), RZ(i, theta_list[2*i+1+2*n_qubit*depth])))\n",
    "    \n",
    "    return circuit"
   ]
  },
  {
   "cell_type": "markdown",
   "metadata": {},
   "source": [
    "## Hartree Fock エネルギーのチェック"
   ]
  },
  {
   "cell_type": "code",
   "execution_count": 29,
   "metadata": {},
   "outputs": [],
   "source": [
    "input_state = QuantumState(n_qubit)\n",
    "input_state.set_computational_basis(int('0b'+'0'*(n_qubit - n_electron)+'1'*(n_electron),2))"
   ]
  },
  {
   "cell_type": "code",
   "execution_count": 30,
   "metadata": {},
   "outputs": [
    {
     "data": {
      "text/plain": [
       "-1.072464231795531"
      ]
     },
     "execution_count": 30,
     "metadata": {},
     "output_type": "execute_result"
    }
   ],
   "source": [
    "qulacs_hamiltonian.get_expectation_value(input_state)"
   ]
  },
  {
   "cell_type": "code",
   "execution_count": 31,
   "metadata": {},
   "outputs": [
    {
     "data": {
      "text/plain": [
       "array(-1.0724642317955309)"
      ]
     },
     "execution_count": 31,
     "metadata": {},
     "output_type": "execute_result"
    }
   ],
   "source": [
    "molecule.hf_energy"
   ]
  },
  {
   "cell_type": "markdown",
   "metadata": {},
   "source": [
    "## VQE の cost function"
   ]
  },
  {
   "cell_type": "code",
   "execution_count": 32,
   "metadata": {},
   "outputs": [],
   "source": [
    "def cost(theta_list):\n",
    "    input_state.set_computational_basis(int('0b'+'0'*(n_qubit - n_electron)+'1'*(n_electron),2))\n",
    "    circuit = he_ansatz_circuit(n_qubit, depth, theta_list)\n",
    "    circuit.update_quantum_state(input_state)\n",
    "    return qulacs_hamiltonian.get_expectation_value(input_state)"
   ]
  },
  {
   "cell_type": "markdown",
   "metadata": {},
   "source": [
    "## 初期パラメータセット"
   ]
  },
  {
   "cell_type": "code",
   "execution_count": 33,
   "metadata": {},
   "outputs": [
    {
     "data": {
      "text/plain": [
       "array([ 0.08925696,  0.07261736,  0.00184417,  0.00921972,  0.04275276,\n",
       "        0.01578935,  0.06102331,  0.09573871,  0.03383918,  0.05033923,\n",
       "        0.03434128,  0.04125304,  0.02149417,  0.03899   ,  0.05899633,\n",
       "        0.09161188,  0.04488482,  0.02911005,  0.07332032,  0.06124489,\n",
       "        0.09387489,  0.04147927,  0.08804166,  0.08516759,  0.09260447,\n",
       "        0.00456541,  0.03487058,  0.06786641,  0.02767489,  0.01165369,\n",
       "        0.02942648,  0.09364672,  0.0172514 ,  0.06342109,  0.03160019,\n",
       "        0.07681995,  0.05481179,  0.00039067,  0.02442752,  0.02463498])"
      ]
     },
     "execution_count": 33,
     "metadata": {},
     "output_type": "execute_result"
    }
   ],
   "source": [
    "init_theta_list = np.random.random(2*n_qubit*(depth+1))*1e-1\n",
    "init_theta_list"
   ]
  },
  {
   "cell_type": "markdown",
   "metadata": {},
   "source": [
    "## 最適化"
   ]
  },
  {
   "cell_type": "code",
   "execution_count": 34,
   "metadata": {},
   "outputs": [],
   "source": [
    "method = \"BFGS\"\n",
    "options = {\"disp\": True, \"maxiter\": 50, \"gtol\": 1e-6}\n",
    "opt = minimize(cost, init_theta_list, method = method)"
   ]
  },
  {
   "cell_type": "code",
   "execution_count": 35,
   "metadata": {},
   "outputs": [
    {
     "data": {
      "text/plain": [
       "array([-0.12041315, -0.17764761, -0.44389081,  0.01187756,  0.08184133,\n",
       "       -0.02713956, -0.04845536,  0.04008342,  0.26932229,  0.03729284,\n",
       "       -0.07183556,  0.01615521,  0.2334384 , -0.01729249, -0.22946549,\n",
       "       -0.00889855,  0.43808322, -0.07189163,  0.29829551, -0.00775816,\n",
       "        0.14959231,  0.01314794,  0.57541523,  0.00138847,  0.55911573,\n",
       "        0.00594176, -0.08858338,  0.00600669,  0.02679934, -0.01575922,\n",
       "       -0.55788231,  0.00353126,  0.46296414,  0.02927258, -0.18311361,\n",
       "        0.04267292, -0.0613104 ,  0.03450548,  0.24956115,  0.05875054])"
      ]
     },
     "execution_count": 35,
     "metadata": {},
     "output_type": "execute_result"
    }
   ],
   "source": [
    "opt.x"
   ]
  },
  {
   "cell_type": "code",
   "execution_count": 36,
   "metadata": {},
   "outputs": [
    {
     "name": "stdout",
     "output_type": "stream",
     "text": [
      "-1.1059333488572785 -1.1059333514241623\n"
     ]
    }
   ],
   "source": [
    "print(opt.fun, float(molecule.fci_energy))"
   ]
  },
  {
   "cell_type": "code",
   "execution_count": null,
   "metadata": {},
   "outputs": [],
   "source": []
  }
 ],
 "metadata": {
  "kernelspec": {
   "display_name": "Python 3",
   "language": "python",
   "name": "python3"
  },
  "language_info": {
   "codemirror_mode": {
    "name": "ipython",
    "version": 3
   },
   "file_extension": ".py",
   "mimetype": "text/x-python",
   "name": "python",
   "nbconvert_exporter": "python",
   "pygments_lexer": "ipython3",
   "version": "3.6.5"
  }
 },
 "nbformat": 4,
 "nbformat_minor": 2
}
